{
  "nbformat": 4,
  "nbformat_minor": 0,
  "metadata": {
    "colab": {
      "provenance": [],
      "authorship_tag": "ABX9TyOmM1fhjKYjvLUXgd1v26OK",
      "include_colab_link": true
    },
    "kernelspec": {
      "name": "python3",
      "display_name": "Python 3"
    },
    "language_info": {
      "name": "python"
    }
  },
  "cells": [
    {
      "cell_type": "markdown",
      "metadata": {
        "id": "view-in-github",
        "colab_type": "text"
      },
      "source": [
        "<a href=\"https://colab.research.google.com/github/rmbgatram/DAA-Solutions/blob/main/numpy_array_examples.ipynb\" target=\"_parent\"><img src=\"https://colab.research.google.com/assets/colab-badge.svg\" alt=\"Open In Colab\"/></a>"
      ]
    },
    {
      "cell_type": "markdown",
      "source": [
        "## **Numpy Examples**"
      ],
      "metadata": {
        "id": "XaEHFWCTnOUc"
      }
    },
    {
      "cell_type": "markdown",
      "source": [
        "**Creating 0D ndarray**"
      ],
      "metadata": {
        "id": "1lPWdtAHo4xK"
      }
    },
    {
      "cell_type": "code",
      "source": [
        "import numpy as np\n",
        "a = np.array(10)\n",
        "print('0D Array elements: ', a)\n",
        "print('Dimension of a: ', a.ndim)\n",
        "print('size of a: ', a.size)\n",
        "print(type(a))"
      ],
      "metadata": {
        "colab": {
          "base_uri": "https://localhost:8080/"
        },
        "id": "K-58JS45nRla",
        "outputId": "520b8670-d7e9-4e1d-ee4f-0c22b194fa8a"
      },
      "execution_count": null,
      "outputs": [
        {
          "output_type": "stream",
          "name": "stdout",
          "text": [
            "0D Array elements:  10\n",
            "Dimension of a:  0\n",
            "size of a:  1\n",
            "<class 'numpy.ndarray'>\n"
          ]
        }
      ]
    },
    {
      "cell_type": "markdown",
      "source": [
        "**Creating 1D ndarray & accessing individual elements**\n",
        "* a[index]\n",
        "* starting index is 0\n",
        "* -ve index gives elements from end"
      ],
      "metadata": {
        "id": "LKlQMV3Gpmv-"
      }
    },
    {
      "cell_type": "code",
      "source": [
        "import numpy as np\n",
        "# Creating array using list\n",
        "a = np.array([1, 2, 3, 4, 5]) \n",
        "# Creating array using tuple\n",
        "b = np.array((1, 2, 3, 4, 5, 6)) \n",
        "# Prints Dimesion of a and b\n",
        "print('Dimension of a: ', a.ndim)\n",
        "print('Dimension of b: ', b.ndim)\n",
        "# Prints size of a and b\n",
        "print('Size of a: ', a.size)\n",
        "print('Size of b: ', b.size)\n",
        "# Prints Elements of a and b\n",
        "print('1D Array Elements of a: ', a)\n",
        "print('1D Array Elements of b: ', b)\n",
        "# individual elements are accessed with index, index starts from 0\n",
        "# negative index to access elements from the end\n",
        "print('2nd Element of a: ', a[1]) \n",
        "print('3rd Element of b: ', b[2]) \n",
        "print('2nd Element of b from end: ', b[-2]) \n"
      ],
      "metadata": {
        "id": "Or0ZPJzYnjQI",
        "colab": {
          "base_uri": "https://localhost:8080/"
        },
        "outputId": "dcf8be98-afea-4590-8277-08f1ce5c5194"
      },
      "execution_count": null,
      "outputs": [
        {
          "output_type": "stream",
          "name": "stdout",
          "text": [
            "Dimension of a:  1\n",
            "Dimension of b:  1\n",
            "Size of a:  5\n",
            "Size of b:  6\n",
            "1D Array Elements of a:  [1 2 3 4 5]\n",
            "1D Array Elements of b:  [1 2 3 4 5 6]\n",
            "2nd Element of a:  2\n",
            "3rd Element of b:  3\n",
            "2nd Element of b from end:  5\n"
          ]
        }
      ]
    },
    {
      "cell_type": "markdown",
      "source": [
        "**Creating 2D ndarray & accessing individual elements**\n",
        "* a[rindex, cindex]\n",
        "* starting index is 0\n",
        "* -ve index gives elements from end"
      ],
      "metadata": {
        "id": "GJEIBUM-p-nD"
      }
    },
    {
      "cell_type": "code",
      "source": [
        "import numpy as np\n",
        "a = np.array([[1, 2, 3], [4, 5, 6]])\n",
        "print('Dimension of a: ', a.ndim)\n",
        "print('Size of a: ', a.size)\n",
        "print('2D Array Elements: ', a)\n",
        "print('a[1,1] Element: ', a[1,1])"
      ],
      "metadata": {
        "colab": {
          "base_uri": "https://localhost:8080/"
        },
        "id": "Y-x01GrKqamt",
        "outputId": "539bd8cd-a91d-4f72-aae3-1d6c7e2602c2"
      },
      "execution_count": null,
      "outputs": [
        {
          "output_type": "stream",
          "name": "stdout",
          "text": [
            "Dimension of a:  2\n",
            "Size of a:  6\n",
            "2D Array Elements:  [[1 2 3]\n",
            " [4 5 6]]\n",
            "a[1,1] Element:  5\n"
          ]
        }
      ]
    },
    {
      "cell_type": "markdown",
      "source": [
        "**Creating 3D ndarray & accessing individual elements**"
      ],
      "metadata": {
        "id": "QyQsK4Hgr2Sp"
      }
    },
    {
      "cell_type": "code",
      "source": [
        "import numpy as np\n",
        "a = np.array([[[1, 2, 3], [4, 5, 6]], [[1, 2, 3], [4, 5, 6]]])\n",
        "print('3D Array Elements: ', a)\n",
        "print('Dimension of a: ', a.ndim)\n",
        "# first index signifies which matrix, second index signifies which array and third index signifies which element.\n",
        "print('a[0,1,2] Element: ', a[0,1,2])"
      ],
      "metadata": {
        "colab": {
          "base_uri": "https://localhost:8080/"
        },
        "id": "9JLLcTi9snQQ",
        "outputId": "36859e1d-bb6f-4687-c2b5-70dae8a4715a"
      },
      "execution_count": null,
      "outputs": [
        {
          "output_type": "stream",
          "name": "stdout",
          "text": [
            "3D Array Elements:  [[[1 2 3]\n",
            "  [4 5 6]]\n",
            "\n",
            " [[1 2 3]\n",
            "  [4 5 6]]]\n",
            "Dimension of a:  3\n",
            "a[0,1,2] Element:  6\n"
          ]
        }
      ]
    },
    {
      "cell_type": "markdown",
      "source": [
        "**Array Slicing**\n",
        "\n",
        "\n",
        "*   a[start: end]\n",
        "*   a[start: end: step]\n",
        "* If we don't pass start its considered 0\n",
        "* If we don't pass end its considered length of array in that dimension\n",
        "* If we don't pass step its considered 1\n"
      ],
      "metadata": {
        "id": "c3jiivF74Nbq"
      }
    },
    {
      "cell_type": "code",
      "source": [
        "import numpy as np\n",
        "a = np.array([1, 2, 3, 4, 5, 6, 7, 8, 9, 10])\n",
        "print('Elements from 2 to 5: ', a[1:5])\n",
        "print('Elements from start to 4: ', a[:4])\n",
        "print('Elements from 2 to end: ', a[2:])\n",
        "print('Elements from start to end with step 2: ', a[::2])\n",
        "print('Elements from end to second: ', a[-3:-1])\n",
        "\n",
        "b = np.array([[1, 2, 3, 4, 5], [6, 7, 8, 9, 10]])\n",
        "print('Elements of b: ', b)\n",
        "print('Elements first row from 2 to 4 of b : ', b[1,2:4])\n",
        "print('Elements 0 to 2 row from 1 to 4 columns of b : ', b[0:2, 1:4])"
      ],
      "metadata": {
        "id": "BGKu47Zh4Ljn",
        "colab": {
          "base_uri": "https://localhost:8080/"
        },
        "outputId": "c852326b-8b0f-4e2b-a027-a5221aec3e3d"
      },
      "execution_count": null,
      "outputs": [
        {
          "output_type": "stream",
          "name": "stdout",
          "text": [
            "Elements from 2 to 5:  [2 3 4 5]\n",
            "Elements from start to 4:  [1 2 3 4]\n",
            "Elements from 2 to end:  [ 3  4  5  6  7  8  9 10]\n",
            "Elements from start to end with step 2:  [1 3 5 7 9]\n",
            "Elements from end to second:  [8 9]\n",
            "Elements of b:  [[ 1  2  3  4  5]\n",
            " [ 6  7  8  9 10]]\n",
            "Elements first row from 2 to 4 of b :  [8 9]\n",
            "Elements 0 to 2 row from 1 to 4 columns of b :  [[2 3 4]\n",
            " [7 8 9]]\n"
          ]
        }
      ]
    },
    {
      "cell_type": "markdown",
      "source": [
        "**Data Types**\n",
        "* To know datatype of the array with a.dtype\n",
        "* Creating array with defined datatype: arr = np.array([1, 2, 3, 4], dtype='S')\n",
        "* List of Datatypes in NumPy: i - integer, b - boolean, u - unsigned integer, f - float, c - complex float, m - timedelta, M - datetime, O - object, S - string, U - unicode string, V - fixed chunk of memory for other type ( void )\n",
        "* The astype(datatype) function creates a copy of the array, and allows you to specify the data type as a parameter. (*a.astype('i') or a.astype(int)*)"
      ],
      "metadata": {
        "id": "Up1T3XtpXp_t"
      }
    },
    {
      "cell_type": "code",
      "source": [
        "import numpy as np\n",
        "a = np.array([1, 2, 3, 4, 5, 6])\n",
        "print('Datatype of a: ', a.dtype)\n",
        "\n",
        "b = np.array(['ram', 'kiran', 'sonu'])\n",
        "print('Datatype of b: ', b.dtype)\n",
        "\n",
        "c = np.array([10.5, 6, 11.5, 33], dtype='f')\n",
        "print('Elements of c:', c)\n",
        "print('Datatype of c:', c.dtype)\n",
        "\n",
        "d = np.array([1.1, 2.1, 3.1])\n",
        "e = d.astype('i') # or d.astype(int)\n",
        "f = d.astype(bool)\n",
        "print('Elements of d: ', d)\n",
        "print('Elements of e: ', e)\n",
        "print('Elements of f: ', f)\n"
      ],
      "metadata": {
        "id": "RcJKGdka4KW-",
        "colab": {
          "base_uri": "https://localhost:8080/"
        },
        "outputId": "29dfe988-d37b-4b7e-f2c5-ce93ff3711eb"
      },
      "execution_count": null,
      "outputs": [
        {
          "output_type": "stream",
          "name": "stdout",
          "text": [
            "Datatype of a:  int64\n",
            "Datatype of b:  <U5\n",
            "Elements of c: [10.5  6.  11.5 33. ]\n",
            "Datatype of c: float32\n",
            "Elements of d:  [1.1 2.1 3.1]\n",
            "Elements of e:  [1 2 3]\n",
            "Elements of f:  [ True  True  True]\n"
          ]
        }
      ]
    },
    {
      "cell_type": "markdown",
      "source": [
        "**Copy and View**\n",
        "b = a.copy()\n",
        "c = a.view()\n",
        "* Difference between a copy and a view of an array is that the copy is a new array, and the view is just a view of the original array.\n",
        "* The copy owns the data and any changes made to the copy will not affect original array, and any changes made to the original array will not affect the copy.\n",
        "* The view does not own the data and any changes made to the view will affect the original array, and any changes made to the original array will affect the view."
      ],
      "metadata": {
        "id": "ZFKJUPEebbQ8"
      }
    },
    {
      "cell_type": "code",
      "source": [
        "import numpy as np\n",
        "a = np.array([1, 2, 3, 4, 5, 6])\n",
        "print('Elements of a: ', a)\n",
        "\n",
        "b = a.copy()\n",
        "print('Elements of b: ', b)\n",
        "print('Base of b: ', b.base)\n",
        "\n",
        "c = a.view()\n",
        "print('Elements of c: ', c)\n",
        "print('Base of c: ', c.base)\n"
      ],
      "metadata": {
        "colab": {
          "base_uri": "https://localhost:8080/"
        },
        "id": "t2gfVHG6brYH",
        "outputId": "0604d7ca-cff7-414e-de1e-5e727ede13b4"
      },
      "execution_count": null,
      "outputs": [
        {
          "output_type": "stream",
          "name": "stdout",
          "text": [
            "Elements of a:  [1 2 3 4 5 6]\n",
            "Elements of b:  [1 2 3 4 5 6]\n",
            "Base of b:  None\n",
            "Elements of c:  [1 2 3 4 5 6]\n",
            "Base of c:  [1 2 3 4 5 6]\n"
          ]
        }
      ]
    },
    {
      "cell_type": "markdown",
      "source": [
        "**Shape and Reshpae of an Array**\n",
        "* The a.shape of an array is the number of elements in each dimension.\n",
        "* a.reshape(sizes) Reshaping means changing the shape of an array.\n",
        "* Flattening array means converting a multidimensional array into a 1D array. b = a.reshape(-1)"
      ],
      "metadata": {
        "id": "0je9WuSMdrk-"
      }
    },
    {
      "cell_type": "code",
      "source": [
        "import numpy as np\n",
        "a = np.array([[1, 2, 3, 4], [5, 6, 7, 8]])\n",
        "print('Shape of the a:', a.shape)\n",
        "\n",
        "b = np.array([1, 2, 3, 4], ndmin=5)\n",
        "print('Shape of the b:', b.shape)\n",
        "\n",
        "c = np.array([1, 2, 3, 4, 5, 6, 7, 8, 9, 10, 11, 12])\n",
        "d = c.reshape(4, 3) # 2D Array\n",
        "print(d)\n",
        "e = c.reshape(2, 3, 2) #3D Array\n",
        "print(e)\n",
        "\n",
        "f = np.array([[1, 2, 3], [4, 5, 6]])\n",
        "g = f.reshape(-1)\n",
        "print(g)"
      ],
      "metadata": {
        "colab": {
          "base_uri": "https://localhost:8080/"
        },
        "id": "ZrEaDNmZeAIj",
        "outputId": "d2cdddc3-4760-4637-8b62-7001bf73c196"
      },
      "execution_count": null,
      "outputs": [
        {
          "output_type": "stream",
          "name": "stdout",
          "text": [
            "Shape of the a: (2, 4)\n",
            "Shape of the b: (1, 1, 1, 1, 4)\n",
            "[[ 1  2  3]\n",
            " [ 4  5  6]\n",
            " [ 7  8  9]\n",
            " [10 11 12]]\n",
            "[[[ 1  2]\n",
            "  [ 3  4]\n",
            "  [ 5  6]]\n",
            "\n",
            " [[ 7  8]\n",
            "  [ 9 10]\n",
            "  [11 12]]]\n",
            "[1 2 3 4 5 6]\n"
          ]
        }
      ]
    },
    {
      "cell_type": "markdown",
      "source": [
        "**Iterating Elements**\n",
        "* Iterating means going through elements one by one.\n",
        "* The function nditer() is a helping function that can be used from very basic to very advanced iterations. use op_dtypes argument and pass it the expected datatype to change the datatype of elements while iterating. need to set flags=['buffered'] to perform this action.\n",
        "\n",
        "for x in np.nditer(a, flags=['buffered'], op_dtypes=['S']):\n",
        "  print(x)\n",
        "* Iterating With Different Step Size\n",
        "\n",
        "for x in np.nditer(arr[:, ::2]):\n",
        "  print(x)\n",
        "\n",
        "* index of the element while iterating, the ndenumerate() method can be used for those usecases."
      ],
      "metadata": {
        "id": "4Nf3u36JhxyK"
      }
    },
    {
      "cell_type": "code",
      "source": [
        "import numpy as np\n",
        "# iterating 1D Array\n",
        "a = np.array([1, 2, 3])\n",
        "for x in a:\n",
        "  print(x)\n",
        "\n",
        "for x in np.nditer(a):\n",
        "  print(x)\n",
        "\n",
        "# with index\n",
        "for idx, x in np.ndenumerate(a):\n",
        "  print(idx, x)\n",
        "\n",
        "# iterating 2D Array\n",
        "b = np.array([[1, 2, 3], [4, 5, 6]])\n",
        "# row wise display\n",
        "for x in b:\n",
        "  print(x)\n",
        "# element wise display\n",
        "for x in b:\n",
        "  for y in x:\n",
        "    print(y)\n",
        "# Iterating Arrays Using nditer()\n",
        "for x in np.nditer(b):\n",
        "  print(x)\n",
        "for idx, x in np.ndenumerate(b):\n",
        "  print(idx, x)\n",
        "# Iterating Arrays Using nditer()\n",
        "for x in np.nditer(b):\n",
        "  print(x)\n",
        "#Iterating Array With Different Data Types\n",
        "for x in np.nditer(b, flags=['buffered'], op_dtypes=['S']):\n",
        "  print(x)\n",
        "\n",
        "# Iterating With Different Step Size\n",
        "for x in np.nditer(b[:, ::2]):\n",
        "  print(x)\n",
        "\n",
        "# iterating 3D Array\n",
        "c = np.array([[[1, 2, 3], [4, 5, 6]], [[7, 8, 9], [10, 11, 12]]])\n",
        "\n",
        "for x in c:\n",
        "  print(x)\n",
        "\n",
        "for x in c:\n",
        "  for y in x:\n",
        "    for z in y:\n",
        "      print(z)\n",
        "\n",
        "for x in np.nditer(c):\n",
        "  print(x)"
      ],
      "metadata": {
        "colab": {
          "base_uri": "https://localhost:8080/"
        },
        "id": "Bqjr3N9hh8LW",
        "outputId": "f34ee3bc-4bd9-42ea-83b7-955cb80b1dcd"
      },
      "execution_count": null,
      "outputs": [
        {
          "output_type": "stream",
          "name": "stdout",
          "text": [
            "1\n",
            "2\n",
            "3\n",
            "1\n",
            "2\n",
            "3\n",
            "(0,) 1\n",
            "(1,) 2\n",
            "(2,) 3\n",
            "[1 2 3]\n",
            "[4 5 6]\n",
            "1\n",
            "2\n",
            "3\n",
            "4\n",
            "5\n",
            "6\n",
            "1\n",
            "2\n",
            "3\n",
            "4\n",
            "5\n",
            "6\n",
            "(0, 0) 1\n",
            "(0, 1) 2\n",
            "(0, 2) 3\n",
            "(1, 0) 4\n",
            "(1, 1) 5\n",
            "(1, 2) 6\n",
            "1\n",
            "2\n",
            "3\n",
            "4\n",
            "5\n",
            "6\n",
            "b'1'\n",
            "b'2'\n",
            "b'3'\n",
            "b'4'\n",
            "b'5'\n",
            "b'6'\n",
            "1\n",
            "3\n",
            "4\n",
            "6\n",
            "[[1 2 3]\n",
            " [4 5 6]]\n",
            "[[ 7  8  9]\n",
            " [10 11 12]]\n",
            "1\n",
            "2\n",
            "3\n",
            "4\n",
            "5\n",
            "6\n",
            "7\n",
            "8\n",
            "9\n",
            "10\n",
            "11\n",
            "12\n",
            "1\n",
            "2\n",
            "3\n",
            "4\n",
            "5\n",
            "6\n",
            "7\n",
            "8\n",
            "9\n",
            "10\n",
            "11\n",
            "12\n"
          ]
        }
      ]
    },
    {
      "cell_type": "markdown",
      "source": [
        "**Joining Array**\n",
        "* pass a sequence of arrays that we want to join to the concatenate() function, along with the axis. If axis is not explicitly passed, it is taken as 0.\n",
        "* stack() method along with the axis. If axis is not explicitly passed it is taken as 0.\n",
        "* hstack() to stack along rows."
      ],
      "metadata": {
        "id": "N7AGMnSTnQUS"
      }
    },
    {
      "cell_type": "code",
      "source": [
        "import numpy as np\n",
        "#Joining in the same axis\n",
        "a1 = np.array([1, 2, 3])\n",
        "a2 = np.array([4, 5, 6])\n",
        "a3 = np.concatenate((a1, a2))\n",
        "print('concatenation to two arrays: ')\n",
        "print(a3)\n",
        "\n",
        "# Joining with axis=1\n",
        "b1 = np.array([[1, 2], [3, 4]])\n",
        "b2 = np.array([[5, 6], [7, 8]])\n",
        "b3 = np.concatenate((b1, b2), axis=1)\n",
        "print('Joining two 2D arrays with axis=1: ')\n",
        "print(b3)\n",
        "\n",
        "# Stack order join\n",
        "c1 = np.array([1, 2, 3])\n",
        "c2 = np.array([4, 5, 6])\n",
        "c3 = np.stack((c1, c2), axis=1)\n",
        "print('stacking 1d arrays with axis=1: ')\n",
        "print(c3)\n",
        "\n",
        "# Stacking along with cols\n",
        "d1 = np.array([1, 2, 3])\n",
        "d2 = np.array([4, 5, 6])\n",
        "d3 = np.hstack((d1, d2))\n",
        "d4 = np.vstack((d1, d2))\n",
        "d5 = np.dstack((d1, d2))\n",
        "print('hstack: ')\n",
        "print(d3)\n",
        "print('vstack: ')\n",
        "print(d4)\n",
        "print('dstack: ')\n",
        "print(d5)\n"
      ],
      "metadata": {
        "colab": {
          "base_uri": "https://localhost:8080/"
        },
        "id": "Dc4GTXOanf2d",
        "outputId": "28e2f6a0-738a-4adc-b291-4134e1f2fc9e"
      },
      "execution_count": null,
      "outputs": [
        {
          "output_type": "stream",
          "name": "stdout",
          "text": [
            "concatenation to two arrays: \n",
            "[1 2 3 4 5 6]\n",
            "Joining two 2D arrays with axis=1: \n",
            "[[1 2 5 6]\n",
            " [3 4 7 8]]\n",
            "stacking 1d arrays with axis=1: \n",
            "[[1 4]\n",
            " [2 5]\n",
            " [3 6]]\n",
            "hstack: \n",
            "[1 2 3 4 5 6]\n",
            "vstack: \n",
            "[[1 2 3]\n",
            " [4 5 6]]\n",
            "dstack: \n",
            "[[[1 4]\n",
            "  [2 5]\n",
            "  [3 6]]]\n"
          ]
        }
      ]
    },
    {
      "cell_type": "markdown",
      "source": [
        "**Splitting NumPy Arrays**\n",
        "* use array_split() for splitting arrays, we pass it the array we want to split and the number of splits.\n",
        "* An alternate solution is using hsplit() opposite of hstack()\n"
      ],
      "metadata": {
        "id": "BFy-cVKpqqLm"
      }
    },
    {
      "cell_type": "code",
      "source": [
        "import numpy as np\n",
        "\n",
        "a = np.array([1, 2, 3, 4, 5, 6])\n",
        "b = np.array_split(a, 3)\n",
        "print(b)\n",
        "print(b[0])\n",
        "print(b[1])\n",
        "print(b[2])\n",
        "\n",
        "a = np.array([[1, 2], [3, 4], [5, 6], [7, 8], [9, 10], [11, 12]])\n",
        "b = np.array_split(a, 3)\n",
        "print(b)\n",
        "\n",
        "a = np.array([[1, 2, 3], [4, 5, 6], [7, 8, 9], [10, 11, 12], [13, 14, 15], [16, 17, 18]])\n",
        "b = np.array_split(a, 3, axis=1)\n",
        "print(b)\n",
        "\n"
      ],
      "metadata": {
        "colab": {
          "base_uri": "https://localhost:8080/"
        },
        "id": "8kY3CY7Jx6Ew",
        "outputId": "d03442c9-8e04-400f-8a21-46061878166e"
      },
      "execution_count": null,
      "outputs": [
        {
          "output_type": "stream",
          "name": "stdout",
          "text": [
            "[array([1, 2]), array([3, 4]), array([5, 6])]\n",
            "[1 2]\n",
            "[3 4]\n",
            "[5 6]\n",
            "[array([[1, 2],\n",
            "       [3, 4]]), array([[5, 6],\n",
            "       [7, 8]]), array([[ 9, 10],\n",
            "       [11, 12]])]\n",
            "[array([[ 1],\n",
            "       [ 4],\n",
            "       [ 7],\n",
            "       [10],\n",
            "       [13],\n",
            "       [16]]), array([[ 2],\n",
            "       [ 5],\n",
            "       [ 8],\n",
            "       [11],\n",
            "       [14],\n",
            "       [17]]), array([[ 3],\n",
            "       [ 6],\n",
            "       [ 9],\n",
            "       [12],\n",
            "       [15],\n",
            "       [18]])]\n"
          ]
        }
      ]
    },
    {
      "cell_type": "markdown",
      "source": [
        "**Searching Arrays**\n",
        "* To search an array, use the where() method.\n",
        "* searchsorted() which performs a binary search in the array, and returns the index where the specified value would be inserted to maintain the search order."
      ],
      "metadata": {
        "id": "vyUCJwWRzxvX"
      }
    },
    {
      "cell_type": "code",
      "source": [
        "import numpy as np\n",
        "\n",
        "a = np.array([1, 2, 3, 4, 5, 4, 4])\n",
        "# find where the indexes of 4\n",
        "x = np.where(a == 4)\n",
        "print(x)\n",
        "\n",
        "# find even values from array\n",
        "x = np.where(a%2 == 0)\n",
        "print(x)\n",
        "\n",
        "# binary search\n",
        "a = np.array([1, 2, 3, 4, 5, 6, 7])\n",
        "x = np.searchsorted(a, 4)\n",
        "print(x)\n",
        "\n",
        "# search from right side\n",
        "x = np.searchsorted(a, 5, side='right')\n",
        "print(x)\n",
        "\n",
        "# search multiple values\n",
        "a = np.array([1, 3, 5, 7])\n",
        "x = np.searchsorted(a, [2, 4, 6])\n",
        "print(x)\n",
        "\n"
      ],
      "metadata": {
        "colab": {
          "base_uri": "https://localhost:8080/"
        },
        "id": "b2YTFDcWz41-",
        "outputId": "94d34f9c-1a1b-44eb-c4ee-f5536a28fdf4"
      },
      "execution_count": null,
      "outputs": [
        {
          "output_type": "stream",
          "name": "stdout",
          "text": [
            "(array([3, 5, 6]),)\n",
            "(array([1, 3, 5, 6]),)\n",
            "3\n",
            "5\n",
            "[1 2 3]\n"
          ]
        }
      ]
    },
    {
      "cell_type": "markdown",
      "source": [
        "**Sorting Arrays**"
      ],
      "metadata": {
        "id": "3BQCPdPZ3xvc"
      }
    },
    {
      "cell_type": "code",
      "source": [
        "import numpy as np\n",
        "a = np.array([3, 2, 0, 1])\n",
        "b = np.sort(a)\n",
        "print(b)\n",
        "\n",
        "a = np.array(['banana', 'cherry', 'apple'])\n",
        "print(np.sort(a))\n",
        "\n",
        "a = np.array([[3, 2, 4], [5, 0, 1]])\n",
        "print(np.sort(a))\n",
        "\n",
        "a = np.array([41, 42, 43, 44])\n",
        "x = [True, False, True, False]\n",
        "b = a[x]\n",
        "print(b)\n",
        "\n",
        "fa = a > 42\n",
        "b = a[fa]\n",
        "print(fa)\n",
        "print(b)\n",
        "\n",
        "fa = a % 2 == 0\n",
        "b = a[fa]\n",
        "print(fa)\n",
        "print(b)\n",
        "\n",
        "\n",
        "\n"
      ],
      "metadata": {
        "colab": {
          "base_uri": "https://localhost:8080/"
        },
        "id": "koJf5NCM337_",
        "outputId": "6e4f6ead-78e8-481b-ad9d-43a16cd8f4c0"
      },
      "execution_count": null,
      "outputs": [
        {
          "output_type": "stream",
          "name": "stdout",
          "text": [
            "[0 1 2 3]\n",
            "['apple' 'banana' 'cherry']\n",
            "[[2 3 4]\n",
            " [0 1 5]]\n",
            "[41 43]\n",
            "[False False  True  True]\n",
            "[43 44]\n",
            "[False  True False  True]\n",
            "[42 44]\n"
          ]
        }
      ]
    }
  ]
}